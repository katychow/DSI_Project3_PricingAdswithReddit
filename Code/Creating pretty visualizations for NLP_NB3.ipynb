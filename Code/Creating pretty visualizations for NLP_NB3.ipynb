{
 "cells": [
  {
   "cell_type": "code",
   "execution_count": 1,
   "metadata": {
    "scrolled": true
   },
   "outputs": [
    {
     "name": "stderr",
     "output_type": "stream",
     "text": [
      "/anaconda3/lib/python3.6/site-packages/sklearn/ensemble/weight_boosting.py:29: DeprecationWarning: numpy.core.umath_tests is an internal NumPy module and should not be imported. It will be removed in a future NumPy release.\n",
      "  from numpy.core.umath_tests import inner1d\n",
      "/anaconda3/lib/python3.6/site-packages/sklearn/cross_validation.py:41: DeprecationWarning: This module was deprecated in version 0.18 in favor of the model_selection module into which all the refactored classes and functions are moved. Also note that the interface of the new CV iterators are different from that of this module. This module will be removed in 0.20.\n",
      "  \"This module will be removed in 0.20.\", DeprecationWarning)\n",
      "/anaconda3/lib/python3.6/site-packages/sklearn/grid_search.py:42: DeprecationWarning: This module was deprecated in version 0.18 in favor of the model_selection module into which all the refactored classes and functions are moved. This module will be removed in 0.20.\n",
      "  DeprecationWarning)\n"
     ]
    }
   ],
   "source": [
    "# imports \n",
    "# data science tools \n",
    "import pandas as pd\n",
    "import numpy as np\n",
    "\n",
    "#modeling tools\n",
    "from sklearn.model_selection import train_test_split, cross_val_score\n",
    "from sklearn.naive_bayes import MultinomialNB, BernoulliNB, GaussianNB\n",
    "from sklearn.neighbors import KNeighborsClassifier # will need to use Tfidf for this \n",
    "from sklearn.feature_extraction.text import CountVectorizer, TfidfVectorizer\n",
    "from sklearn.linear_model import LogisticRegressionCV\n",
    "from sklearn.metrics import confusion_matrix\n",
    "# tree based shit\n",
    "from sklearn.ensemble import RandomForestClassifier\n",
    "from sklearn.grid_search import GridSearchCV\n",
    "from sklearn.tree import DecisionTreeClassifier, export_graphviz\n",
    "\n",
    "from IPython.display import Image\n",
    "\n",
    "#plotting tools\n",
    "import pydotplus\n",
    "import seaborn as sns\n",
    "import matplotlib.pyplot as plt\n",
    "%matplotlib inline"
   ]
  },
  {
   "cell_type": "code",
   "execution_count": 2,
   "metadata": {},
   "outputs": [
    {
     "name": "stdout",
     "output_type": "stream",
     "text": [
      "/Users/katychow/DSI/Projects/project-3/Code\r\n"
     ]
    }
   ],
   "source": [
    "!pwd "
   ]
  },
  {
   "cell_type": "code",
   "execution_count": 2,
   "metadata": {},
   "outputs": [],
   "source": [
    "psych = pd.read_csv('/Users/katychow/DSI/Projects/project-3/Data/Reddit_Psych_201812182015.csv')"
   ]
  },
  {
   "cell_type": "code",
   "execution_count": 3,
   "metadata": {},
   "outputs": [],
   "source": [
    "mental = pd.read_csv('/Users/katychow/DSI/Projects/project-3/Data/Reddit_MH_201812160842.csv')"
   ]
  },
  {
   "cell_type": "code",
   "execution_count": 4,
   "metadata": {},
   "outputs": [],
   "source": [
    "ds = pd.concat([psych,mental],ignore_index=True)"
   ]
  },
  {
   "cell_type": "code",
   "execution_count": 6,
   "metadata": {},
   "outputs": [
    {
     "data": {
      "text/plain": [
       "857"
      ]
     },
     "execution_count": 6,
     "metadata": {},
     "output_type": "execute_result"
    }
   ],
   "source": [
    "len(set(psych['title']))"
   ]
  },
  {
   "cell_type": "code",
   "execution_count": 76,
   "metadata": {},
   "outputs": [
    {
     "data": {
      "text/plain": [
       "981"
      ]
     },
     "execution_count": 76,
     "metadata": {},
     "output_type": "execute_result"
    }
   ],
   "source": [
    "len(set(mental['title']))"
   ]
  },
  {
   "cell_type": "code",
   "execution_count": 7,
   "metadata": {},
   "outputs": [
    {
     "data": {
      "text/plain": [
       "(1981, 10)"
      ]
     },
     "execution_count": 7,
     "metadata": {},
     "output_type": "execute_result"
    }
   ],
   "source": [
    "ds.shape"
   ]
  },
  {
   "cell_type": "markdown",
   "metadata": {},
   "source": [
    "### this is not working \n",
    "```python\n",
    "import nltk\n",
    "\n",
    "w_tokenizer = nltk.tokenize.WhitespaceTokenizer()\n",
    "lemmatizer = nltk.stem.WordNetLemmatizer()\n",
    "\n",
    "def lemmatize_text(text):\n",
    "    for w in w_tokenizer.tokenize(text):\n",
    "        return lemmatizer.lemmatize(w) \n",
    "\n",
    "ds['text_lemmatized'] = ds.title.apply(lemmatize_text)\n",
    "\n",
    "ds.head(2)\n",
    "```"
   ]
  },
  {
   "cell_type": "code",
   "execution_count": 5,
   "metadata": {},
   "outputs": [],
   "source": [
    "import nltk\n",
    "\n",
    "w_tokenizer = nltk.tokenize.WhitespaceTokenizer()\n",
    "lemmatizer = nltk.stem.WordNetLemmatizer()"
   ]
  },
  {
   "cell_type": "code",
   "execution_count": 6,
   "metadata": {},
   "outputs": [],
   "source": [
    "def lemma_lemma(my_example_string):\n",
    "    my_example_list = []\n",
    "\n",
    "    for each in my_example_string.split():\n",
    "        my_example_list.append(lemmatizer.lemmatize(each))\n",
    "\n",
    "    return ' '.join(my_example_list)"
   ]
  },
  {
   "cell_type": "code",
   "execution_count": 7,
   "metadata": {},
   "outputs": [],
   "source": [
    "ds['text_lemmatized'] = ds.title.apply(lemma_lemma)"
   ]
  },
  {
   "cell_type": "markdown",
   "metadata": {},
   "source": [
    "testing more things \n",
    "```python\n",
    "ds.title[10]\n",
    "ds.text_lemmatized[10]\n",
    "```"
   ]
  },
  {
   "cell_type": "code",
   "execution_count": 11,
   "metadata": {},
   "outputs": [
    {
     "data": {
      "text/html": [
       "<div>\n",
       "<style scoped>\n",
       "    .dataframe tbody tr th:only-of-type {\n",
       "        vertical-align: middle;\n",
       "    }\n",
       "\n",
       "    .dataframe tbody tr th {\n",
       "        vertical-align: top;\n",
       "    }\n",
       "\n",
       "    .dataframe thead th {\n",
       "        text-align: right;\n",
       "    }\n",
       "</style>\n",
       "<table border=\"1\" class=\"dataframe\">\n",
       "  <thead>\n",
       "    <tr style=\"text-align: right;\">\n",
       "      <th></th>\n",
       "      <th>downs</th>\n",
       "      <th>likes</th>\n",
       "      <th>num_comments</th>\n",
       "      <th>score</th>\n",
       "      <th>subreddit</th>\n",
       "      <th>time_of_pull</th>\n",
       "      <th>title</th>\n",
       "      <th>ups</th>\n",
       "      <th>url</th>\n",
       "      <th>view_count</th>\n",
       "      <th>text_lemmatized</th>\n",
       "    </tr>\n",
       "  </thead>\n",
       "  <tbody>\n",
       "    <tr>\n",
       "      <th>0</th>\n",
       "      <td>0</td>\n",
       "      <td>NaN</td>\n",
       "      <td>31</td>\n",
       "      <td>12</td>\n",
       "      <td>psychology</td>\n",
       "      <td>2018-12-18 20:24:57.575629</td>\n",
       "      <td>Psychological Research/Surveys Thread (December)</td>\n",
       "      <td>12</td>\n",
       "      <td>https://www.reddit.com/r/psychology/comments/a...</td>\n",
       "      <td>NaN</td>\n",
       "      <td>Psychological Research/Surveys Thread (December)</td>\n",
       "    </tr>\n",
       "    <tr>\n",
       "      <th>1</th>\n",
       "      <td>0</td>\n",
       "      <td>NaN</td>\n",
       "      <td>31</td>\n",
       "      <td>8</td>\n",
       "      <td>psychology</td>\n",
       "      <td>2018-12-18 20:24:57.575638</td>\n",
       "      <td>Weekly Discussion Thread (December 2-8)</td>\n",
       "      <td>8</td>\n",
       "      <td>https://www.reddit.com/r/psychology/comments/a...</td>\n",
       "      <td>NaN</td>\n",
       "      <td>Weekly Discussion Thread (December 2-8)</td>\n",
       "    </tr>\n",
       "    <tr>\n",
       "      <th>2</th>\n",
       "      <td>0</td>\n",
       "      <td>NaN</td>\n",
       "      <td>10</td>\n",
       "      <td>225</td>\n",
       "      <td>psychology</td>\n",
       "      <td>2018-12-18 20:24:57.575644</td>\n",
       "      <td>According to a study moderate to severe loneli...</td>\n",
       "      <td>225</td>\n",
       "      <td>https://www.eurekalert.org/pub_releases/2018-1...</td>\n",
       "      <td>NaN</td>\n",
       "      <td>According to a study moderate to severe loneli...</td>\n",
       "    </tr>\n",
       "    <tr>\n",
       "      <th>3</th>\n",
       "      <td>0</td>\n",
       "      <td>NaN</td>\n",
       "      <td>15</td>\n",
       "      <td>721</td>\n",
       "      <td>psychology</td>\n",
       "      <td>2018-12-18 20:24:57.575647</td>\n",
       "      <td>In a new study, researchers show that gently s...</td>\n",
       "      <td>721</td>\n",
       "      <td>http://blogs.discovermagazine.com/d-brief/2018...</td>\n",
       "      <td>NaN</td>\n",
       "      <td>In a new study, researcher show that gently st...</td>\n",
       "    </tr>\n",
       "    <tr>\n",
       "      <th>4</th>\n",
       "      <td>0</td>\n",
       "      <td>NaN</td>\n",
       "      <td>2</td>\n",
       "      <td>78</td>\n",
       "      <td>psychology</td>\n",
       "      <td>2018-12-18 20:24:57.575649</td>\n",
       "      <td>Children of problem drinkers are more likely t...</td>\n",
       "      <td>78</td>\n",
       "      <td>https://news.vcu.edu/article/Children_of_probl...</td>\n",
       "      <td>NaN</td>\n",
       "      <td>Children of problem drinker are more likely to...</td>\n",
       "    </tr>\n",
       "  </tbody>\n",
       "</table>\n",
       "</div>"
      ],
      "text/plain": [
       "   downs  likes  num_comments  score   subreddit                time_of_pull  \\\n",
       "0      0    NaN            31     12  psychology  2018-12-18 20:24:57.575629   \n",
       "1      0    NaN            31      8  psychology  2018-12-18 20:24:57.575638   \n",
       "2      0    NaN            10    225  psychology  2018-12-18 20:24:57.575644   \n",
       "3      0    NaN            15    721  psychology  2018-12-18 20:24:57.575647   \n",
       "4      0    NaN             2     78  psychology  2018-12-18 20:24:57.575649   \n",
       "\n",
       "                                               title  ups  \\\n",
       "0   Psychological Research/Surveys Thread (December)   12   \n",
       "1            Weekly Discussion Thread (December 2-8)    8   \n",
       "2  According to a study moderate to severe loneli...  225   \n",
       "3  In a new study, researchers show that gently s...  721   \n",
       "4  Children of problem drinkers are more likely t...   78   \n",
       "\n",
       "                                                 url  view_count  \\\n",
       "0  https://www.reddit.com/r/psychology/comments/a...         NaN   \n",
       "1  https://www.reddit.com/r/psychology/comments/a...         NaN   \n",
       "2  https://www.eurekalert.org/pub_releases/2018-1...         NaN   \n",
       "3  http://blogs.discovermagazine.com/d-brief/2018...         NaN   \n",
       "4  https://news.vcu.edu/article/Children_of_probl...         NaN   \n",
       "\n",
       "                                     text_lemmatized  \n",
       "0   Psychological Research/Surveys Thread (December)  \n",
       "1            Weekly Discussion Thread (December 2-8)  \n",
       "2  According to a study moderate to severe loneli...  \n",
       "3  In a new study, researcher show that gently st...  \n",
       "4  Children of problem drinker are more likely to...  "
      ]
     },
     "execution_count": 11,
     "metadata": {},
     "output_type": "execute_result"
    }
   ],
   "source": [
    "ds.head()"
   ]
  },
  {
   "cell_type": "markdown",
   "metadata": {},
   "source": [
    "testing stuff\n",
    "```python\n",
    "my_example_string = 'testing on cats and dogs'\n",
    "my_example_list = []\n",
    "\n",
    "for each in my_example_string.split():\n",
    "    my_example_list.append(lemmatizer.lemmatize(each))\n",
    "    \n",
    "' '.join(my_example_list)\n",
    "\n",
    "for each in 'tests dogs cats'.split():\n",
    "    print(lemmatizer.lemmatize(each))\n",
    "\n",
    "[i for i in ds['text_lemmatized'][2:]]\n",
    "```"
   ]
  },
  {
   "cell_type": "code",
   "execution_count": 8,
   "metadata": {},
   "outputs": [],
   "source": [
    "cv = CountVectorizer(stop_words='english',ngram_range=(1,1))\n",
    "cv.fit(ds.text_lemmatized)\n",
    "data_cv = cv.transform(ds['text_lemmatized'])\n",
    "\n",
    "cv_with_class = pd.DataFrame(data_cv.todense(), columns=cv.get_feature_names())\n",
    "\n",
    "cv_with_class['subreddit'] = ds['subreddit']\n",
    "cv_with_class = pd.get_dummies(cv_with_class,columns=['subreddit'],drop_first=True)"
   ]
  },
  {
   "cell_type": "code",
   "execution_count": 73,
   "metadata": {},
   "outputs": [
    {
     "name": "stdout",
     "output_type": "stream",
     "text": [
      "total number of words in psychology subreddit titles  13575\n"
     ]
    }
   ],
   "source": [
    "a = cv_with_class[cv_with_class['subreddit_psychology']==1].sum()\n",
    "b = [i for i in a[:len(a)-1]]\n",
    "print('total number of words in psychology subreddit titles ',sum(b))"
   ]
  },
  {
   "cell_type": "code",
   "execution_count": 75,
   "metadata": {},
   "outputs": [
    {
     "name": "stdout",
     "output_type": "stream",
     "text": [
      "total number of words in mental health subreddit titles  4408\n"
     ]
    }
   ],
   "source": [
    "a = cv_with_class[cv_with_class['subreddit_psychology']==0].sum()\n",
    "b = [i for i in a[:len(a)-1]]\n",
    "print('total number of words in mental health subreddit titles ',sum(b))"
   ]
  },
  {
   "cell_type": "code",
   "execution_count": 77,
   "metadata": {},
   "outputs": [
    {
     "data": {
      "text/plain": [
       "3.079627949183303"
      ]
     },
     "execution_count": 77,
     "metadata": {},
     "output_type": "execute_result"
    }
   ],
   "source": [
    "13575/4408"
   ]
  },
  {
   "cell_type": "code",
   "execution_count": 82,
   "metadata": {},
   "outputs": [
    {
     "data": {
      "text/plain": [
       "Text(0.5, 1.0, 'usage of words based on subreddit')"
      ]
     },
     "execution_count": 82,
     "metadata": {},
     "output_type": "execute_result"
    },
    {
     "data": {
      "image/png": "[encoded data removed]",
      "text/plain": [
       "<Figure size 432x288 with 1 Axes>"
      ]
     },
     "metadata": {},
     "output_type": "display_data"
    }
   ],
   "source": [
    "cv_with_class.groupby('subreddit_psychology')['depression','anxiety','stress','suicide','disorder'].sum().plot(kind='barh',colormap = 'spring')\n",
    "plt.legend(loc='upper right',ncol = 1, fontsize = 'small')\n",
    "plt.ylabel('mental health          psychology')\n",
    "plt.xlabel('count of word usage')\n",
    "plt.title('usage of words based on subreddit')\n",
    "# plt.savefig('comparewordusageacross2subreddits.png')"
   ]
  },
  {
   "cell_type": "code",
   "execution_count": 9,
   "metadata": {},
   "outputs": [
    {
     "data": {
      "text/plain": [
       "<Figure size 1440x1080 with 0 Axes>"
      ]
     },
     "metadata": {},
     "output_type": "display_data"
    },
    {
     "data": {
      "image/png": "[encoded data removed]",
      "text/plain": [
       "<Figure size 432x288 with 1 Axes>"
      ]
     },
     "metadata": {},
     "output_type": "display_data"
    }
   ],
   "source": [
    "data_cv = cv.transform(ds[ds['subreddit']=='mentalhealth']['text_lemmatized'])\n",
    "sum_words = data_cv.sum(axis=0) \n",
    "words_freq = [(word, sum_words[0, idx]) for word, idx in     cv.vocabulary_.items()]\n",
    "words_freq =sorted(words_freq, key = lambda x: x[1], reverse=True)\n",
    "a = pd.DataFrame(words_freq,columns=['word','word_count']).head(20)\n",
    "plt.figure(figsize = (20,15))\n",
    "a.plot.barh(x='word', y='word_count',color='mistyrose')\n",
    "plt.title('Top 20 words lemmatized in \\nMental Health Subreddit')\n",
    "plt.ylabel('Word',size = 10)\n",
    "plt.xlabel('Count of word usage',size = 10);\n",
    "plt.tight_layout()\n",
    "# plt.savefig('Top20WordsLemmatizedMentalHealth2x2.png',pad_inches=1)"
   ]
  },
  {
   "cell_type": "code",
   "execution_count": 14,
   "metadata": {},
   "outputs": [],
   "source": [
    "# !pip install WordCloud\n",
    "from PIL import Image\n",
    "from wordcloud import WordCloud"
   ]
  },
  {
   "cell_type": "code",
   "execution_count": 15,
   "metadata": {},
   "outputs": [
    {
     "data": {
      "image/png": "[encoded data removed]",
      "text/plain": [
       "<Figure size 576x72 with 1 Axes>"
      ]
     },
     "metadata": {},
     "output_type": "display_data"
    }
   ],
   "source": [
    "data_cv = cv.transform(ds[ds['subreddit']=='mentalhealth']['text_lemmatized'])\n",
    "sum_words = data_cv.sum(axis=0) \n",
    "words_freq = [(word, sum_words[0, idx]) for word, idx in     cv.vocabulary_.items()]\n",
    "words_freq =sorted(words_freq, key = lambda x: x[1], reverse=True)\n",
    "\n",
    "words_freq_dict = dict(words_freq)\n",
    "text_str = ''.join([(i+' ')*j for i,j in words_freq])\n",
    "\n",
    "mask = np.array(Image.open(\"/Users/katychow/DSI/Projects/project-3/Images/Blue_cloud.png\"),np.int32)\n",
    "\n",
    "def transform_format(val):\n",
    "    if val == 0:\n",
    "        return 255\n",
    "    else:\n",
    "        return 0\n",
    "a = np.vectorize(transform_format)\n",
    "new_mask = a(mask)\n",
    "\n",
    "wordcloud = WordCloud(width = 2000, height = 1500, \n",
    "                        background_color ='white', \n",
    "                        mask = new_mask,\n",
    "                        contour_width=0.5, \n",
    "                        contour_color='darkgray',\n",
    "                        relative_scaling=1,\n",
    "                        max_font_size=None,\n",
    "                      colormap=sns.palplot(sns.color_palette(\"Set2\"))\n",
    "                ).generate_from_frequencies(words_freq_dict)\n",
    "\n",
    "wordcloud.to_file('mentalhealth_wordcloud.png')\n",
    "\n",
    "\n",
    "# plt.figure(figsize=(24,14), dpi=1200)\n",
    "plt.imshow(wordcloud, interpolation='bilinear')\n",
    "plt.axis(\"off\");"
   ]
  },
  {
   "cell_type": "code",
   "execution_count": 10,
   "metadata": {},
   "outputs": [
    {
     "data": {
      "image/png": "[encoded data removed]",
      "text/plain": [
       "<Figure size 432x288 with 1 Axes>"
      ]
     },
     "metadata": {},
     "output_type": "display_data"
    }
   ],
   "source": [
    "data_cv = cv.transform(ds[ds['subreddit']=='psychology']['text_lemmatized'])\n",
    "sum_words = data_cv.sum(axis=0) \n",
    "words_freq = [(word, sum_words[0, idx]) for word, idx in     cv.vocabulary_.items()]\n",
    "words_freq =sorted(words_freq, key = lambda x: x[1], reverse=True)\n",
    "pd.DataFrame(words_freq,columns=['word','word_count']).head(20)\n",
    "a = pd.DataFrame(words_freq,columns=['word','word_count']).head(20)\n",
    "a.plot.barh(x='word', y='word_count',color='mistyrose')\n",
    "plt.title('Top 20 words lemmatized in \\nPsychology Subreddit')\n",
    "plt.ylabel('Word',size = 10)\n",
    "plt.xlabel('Count of word usage',size = 10)\n",
    "plt.tight_layout();\n",
    "# plt.savefig('Top20WordsLemmatizedPsychology2x2.png')"
   ]
  },
  {
   "cell_type": "code",
   "execution_count": 18,
   "metadata": {},
   "outputs": [
    {
     "data": {
      "image/png": "[encoded data removed]",
      "text/plain": [
       "<Figure size 576x72 with 1 Axes>"
      ]
     },
     "metadata": {},
     "output_type": "display_data"
    }
   ],
   "source": [
    "data_cv = cv.transform(ds[ds['subreddit']=='psychology']['text_lemmatized'])\n",
    "sum_words = data_cv.sum(axis=0) \n",
    "words_freq = [(word, sum_words[0, idx]) for word, idx in     cv.vocabulary_.items()]\n",
    "words_freq =sorted(words_freq, key = lambda x: x[1], reverse=True)\n",
    "\n",
    "words_freq_dict = dict(words_freq)\n",
    "text_str = ''.join([(i+' ')*j for i,j in words_freq])\n",
    "\n",
    "mask = np.array(Image.open(\"/Users/katychow/DSI/Projects/project-3/Images/Blue_cloud.png\"),np.int32)\n",
    "\n",
    "def transform_format(val):\n",
    "    if val == 0:\n",
    "        return 255\n",
    "    else:\n",
    "        return 0\n",
    "a = np.vectorize(transform_format)\n",
    "new_mask = a(mask)\n",
    "\n",
    "wordcloud = WordCloud(width = 2000, height = 1500, \n",
    "                        background_color ='white', \n",
    "                        mask = new_mask,\n",
    "                        contour_width=0.5, \n",
    "                        contour_color='darkgray',\n",
    "                        relative_scaling=1,\n",
    "                        max_font_size=None,\n",
    "                      colormap=sns.palplot(sns.color_palette(\"Set2\"))\n",
    "                ).generate_from_frequencies(words_freq_dict)\n",
    "\n",
    "wordcloud.to_file('psychology_wordcloud.png')\n",
    "\n",
    "\n",
    "# plt.figure(figsize=(24,14), dpi=1200)\n",
    "plt.imshow(wordcloud, interpolation='bilinear')\n",
    "plt.axis(\"off\");"
   ]
  },
  {
   "cell_type": "code",
   "execution_count": 22,
   "metadata": {
    "scrolled": true
   },
   "outputs": [
    {
     "data": {
      "image/png": "[encoded data removed]",
      "text/plain": [
       "<Figure size 432x288 with 1 Axes>"
      ]
     },
     "metadata": {},
     "output_type": "display_data"
    }
   ],
   "source": [
    "data_cv = cv.transform(ds['text_lemmatized'])\n",
    "sum_words = data_cv.sum(axis=0) \n",
    "words_freq = [(word, sum_words[0, idx]) for word, idx in     cv.vocabulary_.items()]\n",
    "words_freq =sorted(words_freq, key = lambda x: x[1], reverse=True)\n",
    "a = pd.DataFrame(words_freq,columns=['word','word_count']).head(20)\n",
    "a.plot.barh(x='word', y='word_count',color='mistyrose')\n",
    "plt.title('Top 20 words lemmatized in both Subreddits \\n(Psychology, Mental Health)')\n",
    "plt.ylabel('Word',size = 10)\n",
    "plt.xlabel('Count of word usage',size = 10)\n",
    "plt.tight_layout();\n",
    "# plt.savefig('Top20WordsLemmatized2Subreddits2x2.png')"
   ]
  },
  {
   "cell_type": "code",
   "execution_count": 20,
   "metadata": {},
   "outputs": [
    {
     "data": {
      "image/png": "[encoded data removed]",
      "text/plain": [
       "<Figure size 576x72 with 1 Axes>"
      ]
     },
     "metadata": {},
     "output_type": "display_data"
    }
   ],
   "source": [
    "data_cv = cv.transform(ds['text_lemmatized'])\n",
    "sum_words = data_cv.sum(axis=0) \n",
    "words_freq = [(word, sum_words[0, idx]) for word, idx in     cv.vocabulary_.items()]\n",
    "words_freq =sorted(words_freq, key = lambda x: x[1], reverse=True)\n",
    "\n",
    "words_freq_dict = dict(words_freq)\n",
    "text_str = ''.join([(i+' ')*j for i,j in words_freq])\n",
    "\n",
    "mask = np.array(Image.open(\"/Users/katychow/DSI/Projects/project-3/Images/Blue_cloud.png\"),np.int32)\n",
    "\n",
    "def transform_format(val):\n",
    "    if val == 0:\n",
    "        return 255\n",
    "    else:\n",
    "        return 0\n",
    "a = np.vectorize(transform_format)\n",
    "new_mask = a(mask)\n",
    "\n",
    "wordcloud = WordCloud(width = 2000, height = 1500, \n",
    "                        background_color ='white', \n",
    "                        mask = new_mask,\n",
    "                        contour_width=0.5, \n",
    "                        contour_color='darkgray',\n",
    "                        relative_scaling=1,\n",
    "                        max_font_size=None,\n",
    "                      colormap=sns.palplot(sns.color_palette(\"Set2\"))\n",
    "                ).generate_from_frequencies(words_freq_dict)\n",
    "\n",
    "wordcloud.to_file('subreddit_wordcloud.png')\n",
    "\n",
    "\n",
    "# plt.figure(figsize=(24,14), dpi=1200)\n",
    "plt.imshow(wordcloud, interpolation='bilinear')\n",
    "plt.axis(\"off\");"
   ]
  },
  {
   "cell_type": "code",
   "execution_count": 21,
   "metadata": {},
   "outputs": [
    {
     "data": {
      "text/plain": [
       "TfidfVectorizer(analyzer='word', binary=False, decode_error='strict',\n",
       "        dtype=<class 'numpy.int64'>, encoding='utf-8', input='content',\n",
       "        lowercase=True, max_df=1.0, max_features=None, min_df=1,\n",
       "        ngram_range=(1, 1), norm='l2', preprocessor=None, smooth_idf=True,\n",
       "        stop_words='english', strip_accents=None, sublinear_tf=False,\n",
       "        token_pattern='(?u)\\\\b\\\\w\\\\w+\\\\b', tokenizer=None, use_idf=True,\n",
       "        vocabulary=None)"
      ]
     },
     "execution_count": 21,
     "metadata": {},
     "output_type": "execute_result"
    }
   ],
   "source": [
    "tfidf = TfidfVectorizer(stop_words='english',ngram_range=(1,1))\n",
    "tfidf.fit(ds.text_lemmatized)"
   ]
  },
  {
   "cell_type": "code",
   "execution_count": 22,
   "metadata": {},
   "outputs": [
    {
     "data": {
      "text/plain": [
       "<matplotlib.axes._subplots.AxesSubplot at 0x1a302283c8>"
      ]
     },
     "execution_count": 22,
     "metadata": {},
     "output_type": "execute_result"
    },
    {
     "data": {
      "image/png": "[encoded data removed]",
      "text/plain": [
       "<Figure size 432x288 with 1 Axes>"
      ]
     },
     "metadata": {},
     "output_type": "display_data"
    }
   ],
   "source": [
    "data_tfidf = tfidf.transform(ds[ds['subreddit']=='mentalhealth']['text_lemmatized'])\n",
    "sum_words = data_tfidf.sum(axis=0) \n",
    "words_freq = [(word, sum_words[0, idx]) for word, idx in     tfidf.vocabulary_.items()]\n",
    "words_freq =sorted(words_freq, key = lambda x: x[1], reverse=True)\n",
    "pd.DataFrame(words_freq,columns=['word','word_count']).head(20)\n",
    "pd.DataFrame(words_freq,columns=['word','word_count']).head(20).plot.barh(x='word', y='word_count',color='pink')"
   ]
  },
  {
   "cell_type": "code",
   "execution_count": 23,
   "metadata": {},
   "outputs": [
    {
     "data": {
      "text/plain": [
       "<matplotlib.axes._subplots.AxesSubplot at 0x1a306101d0>"
      ]
     },
     "execution_count": 23,
     "metadata": {},
     "output_type": "execute_result"
    },
    {
     "data": {
      "image/png": "[encoded data removed]",
      "text/plain": [
       "<Figure size 432x288 with 1 Axes>"
      ]
     },
     "metadata": {},
     "output_type": "display_data"
    }
   ],
   "source": [
    "data_tfidf = tfidf.transform(ds[ds['subreddit']=='psychology']['text_lemmatized'])\n",
    "sum_words = data_tfidf.sum(axis=0) \n",
    "words_freq = [(word, sum_words[0, idx]) for word, idx in     tfidf.vocabulary_.items()]\n",
    "words_freq =sorted(words_freq, key = lambda x: x[1], reverse=True)\n",
    "pd.DataFrame(words_freq,columns=['word','word_count']).head(20)\n",
    "pd.DataFrame(words_freq,columns=['word','word_count']).head(20).plot.barh(x='word', y='word_count',color='pink')"
   ]
  },
  {
   "cell_type": "code",
   "execution_count": 24,
   "metadata": {},
   "outputs": [
    {
     "data": {
      "text/plain": [
       "<matplotlib.axes._subplots.AxesSubplot at 0x1a30418240>"
      ]
     },
     "execution_count": 24,
     "metadata": {},
     "output_type": "execute_result"
    },
    {
     "data": {
      "image/png": "[encoded data removed]",
      "text/plain": [
       "<Figure size 432x288 with 1 Axes>"
      ]
     },
     "metadata": {},
     "output_type": "display_data"
    }
   ],
   "source": [
    "data_tfidf = tfidf.transform(ds['text_lemmatized'])\n",
    "sum_words = data_tfidf.sum(axis=0) \n",
    "words_freq = [(word, sum_words[0, idx]) for word, idx in     tfidf.vocabulary_.items()]\n",
    "words_freq =sorted(words_freq, key = lambda x: x[1], reverse=True)\n",
    "pd.DataFrame(words_freq,columns=['word','word_count']).head(20)\n",
    "pd.DataFrame(words_freq,columns=['word','word_count']).head(20).plot.barh(x='word', y='word_count',color='pink')"
   ]
  },
  {
   "cell_type": "code",
   "execution_count": null,
   "metadata": {},
   "outputs": [],
   "source": []
  }
 ],
 "metadata": {
  "kernelspec": {
   "display_name": "Python 3",
   "language": "python",
   "name": "python3"
  },
  "language_info": {
   "codemirror_mode": {
    "name": "ipython",
    "version": 3
   },
   "file_extension": ".py",
   "mimetype": "text/x-python",
   "name": "python",
   "nbconvert_exporter": "python",
   "pygments_lexer": "ipython3",
   "version": "3.6.4"
  }
 },
 "nbformat": 4,
 "nbformat_minor": 2
}
