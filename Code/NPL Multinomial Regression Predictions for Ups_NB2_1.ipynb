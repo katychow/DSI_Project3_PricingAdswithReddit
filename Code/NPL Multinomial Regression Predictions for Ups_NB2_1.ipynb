{
 "cells": [
  {
   "cell_type": "code",
   "execution_count": 1,
   "metadata": {},
   "outputs": [
    {
     "name": "stderr",
     "output_type": "stream",
     "text": [
      "/anaconda3/lib/python3.6/site-packages/sklearn/ensemble/weight_boosting.py:29: DeprecationWarning: numpy.core.umath_tests is an internal NumPy module and should not be imported. It will be removed in a future NumPy release.\n",
      "  from numpy.core.umath_tests import inner1d\n",
      "/anaconda3/lib/python3.6/site-packages/sklearn/cross_validation.py:41: DeprecationWarning: This module was deprecated in version 0.18 in favor of the model_selection module into which all the refactored classes and functions are moved. Also note that the interface of the new CV iterators are different from that of this module. This module will be removed in 0.20.\n",
      "  \"This module will be removed in 0.20.\", DeprecationWarning)\n",
      "/anaconda3/lib/python3.6/site-packages/sklearn/grid_search.py:42: DeprecationWarning: This module was deprecated in version 0.18 in favor of the model_selection module into which all the refactored classes and functions are moved. This module will be removed in 0.20.\n",
      "  DeprecationWarning)\n"
     ]
    }
   ],
   "source": [
    "# imports \n",
    "# data science tools \n",
    "import pandas as pd\n",
    "import numpy as np\n",
    "\n",
    "#modeling tools\n",
    "from sklearn.model_selection import train_test_split, cross_val_score\n",
    "from sklearn.naive_bayes import MultinomialNB, BernoulliNB, GaussianNB\n",
    "from sklearn.neighbors import KNeighborsClassifier # will need to use Tfidf for this \n",
    "from sklearn.feature_extraction.text import CountVectorizer, TfidfVectorizer\n",
    "from sklearn.linear_model import LogisticRegression\n",
    "from sklearn.metrics import confusion_matrix\n",
    "# tree based shit\n",
    "from sklearn.ensemble import RandomForestClassifier, GradientBoostingClassifier, AdaBoostClassifier\n",
    "from sklearn.grid_search import GridSearchCV\n",
    "from sklearn.tree import DecisionTreeClassifier, export_graphviz\n",
    "\n",
    "from IPython.display import Image\n",
    "\n",
    "#plotting tools\n",
    "import pydotplus\n",
    "import seaborn as sns\n",
    "import matplotlib.pyplot as plt\n",
    "%matplotlib inline\n"
   ]
  },
  {
   "cell_type": "code",
   "execution_count": 2,
   "metadata": {},
   "outputs": [],
   "source": [
    "ds = pd.read_csv('/Users/katychow/DSI/Projects/project-3/Data/Reddit_MH_201812160842.csv')"
   ]
  },
  {
   "cell_type": "code",
   "execution_count": 3,
   "metadata": {},
   "outputs": [],
   "source": [
    "# ds.head()"
   ]
  },
  {
   "cell_type": "code",
   "execution_count": 3,
   "metadata": {},
   "outputs": [],
   "source": [
    "import nltk\n",
    "\n",
    "w_tokenizer = nltk.tokenize.WhitespaceTokenizer()\n",
    "lemmatizer = nltk.stem.WordNetLemmatizer()\n",
    "porter = nltk.stem.PorterStemmer()"
   ]
  },
  {
   "cell_type": "code",
   "execution_count": 4,
   "metadata": {},
   "outputs": [],
   "source": [
    "def stemme(my_example_string):\n",
    "    my_example_list = []\n",
    "\n",
    "    for each in my_example_string.split():\n",
    "        my_example_list.append(porter.stem(each))\n",
    "\n",
    "    return ' '.join(my_example_list)"
   ]
  },
  {
   "cell_type": "code",
   "execution_count": 5,
   "metadata": {},
   "outputs": [],
   "source": [
    "def lemma_lemma(my_example_string):\n",
    "    my_example_list = []\n",
    "\n",
    "    for each in my_example_string.split():\n",
    "        my_example_list.append(lemmatizer.lemmatize(each))\n",
    "\n",
    "    return ' '.join(my_example_list)"
   ]
  },
  {
   "cell_type": "code",
   "execution_count": 6,
   "metadata": {},
   "outputs": [],
   "source": [
    "ds['text_lemmatized'] = ds.title.apply(lemma_lemma)\n",
    "ds['text_stemmed']=ds.title.apply(stemme)"
   ]
  },
  {
   "cell_type": "code",
   "execution_count": 7,
   "metadata": {
    "scrolled": true
   },
   "outputs": [
    {
     "data": {
      "text/html": [
       "<div>\n",
       "<style scoped>\n",
       "    .dataframe tbody tr th:only-of-type {\n",
       "        vertical-align: middle;\n",
       "    }\n",
       "\n",
       "    .dataframe tbody tr th {\n",
       "        vertical-align: top;\n",
       "    }\n",
       "\n",
       "    .dataframe thead th {\n",
       "        text-align: right;\n",
       "    }\n",
       "</style>\n",
       "<table border=\"1\" class=\"dataframe\">\n",
       "  <thead>\n",
       "    <tr style=\"text-align: right;\">\n",
       "      <th></th>\n",
       "      <th>downs</th>\n",
       "      <th>likes</th>\n",
       "      <th>num_comments</th>\n",
       "      <th>score</th>\n",
       "      <th>subreddit</th>\n",
       "      <th>time_of_pull</th>\n",
       "      <th>title</th>\n",
       "      <th>ups</th>\n",
       "      <th>url</th>\n",
       "      <th>view_count</th>\n",
       "      <th>text_lemmatized</th>\n",
       "      <th>text_stemmed</th>\n",
       "    </tr>\n",
       "  </thead>\n",
       "  <tbody>\n",
       "    <tr>\n",
       "      <th>0</th>\n",
       "      <td>0</td>\n",
       "      <td>NaN</td>\n",
       "      <td>0</td>\n",
       "      <td>1</td>\n",
       "      <td>mentalhealth</td>\n",
       "      <td>2018-12-16 08:20:31.781459</td>\n",
       "      <td>Why am I afraid to express myself?</td>\n",
       "      <td>1</td>\n",
       "      <td>https://www.reddit.com/r/mentalhealth/comments...</td>\n",
       "      <td>NaN</td>\n",
       "      <td>Why am I afraid to express myself?</td>\n",
       "      <td>whi am I afraid to express myself?</td>\n",
       "    </tr>\n",
       "    <tr>\n",
       "      <th>1</th>\n",
       "      <td>0</td>\n",
       "      <td>NaN</td>\n",
       "      <td>22</td>\n",
       "      <td>204</td>\n",
       "      <td>mentalhealth</td>\n",
       "      <td>2018-12-16 08:20:31.781468</td>\n",
       "      <td>I was talked out of an abortion at 18, now I'm...</td>\n",
       "      <td>204</td>\n",
       "      <td>https://www.reddit.com/r/mentalhealth/comments...</td>\n",
       "      <td>NaN</td>\n",
       "      <td>I wa talked out of an abortion at 18, now I'm ...</td>\n",
       "      <td>I wa talk out of an abort at 18, now i'm 22 an...</td>\n",
       "    </tr>\n",
       "    <tr>\n",
       "      <th>2</th>\n",
       "      <td>0</td>\n",
       "      <td>NaN</td>\n",
       "      <td>0</td>\n",
       "      <td>7</td>\n",
       "      <td>mentalhealth</td>\n",
       "      <td>2018-12-16 08:20:31.781471</td>\n",
       "      <td>We will be dead in less than 110 years so the ...</td>\n",
       "      <td>7</td>\n",
       "      <td>https://www.reddit.com/r/mentalhealth/comments...</td>\n",
       "      <td>NaN</td>\n",
       "      <td>We will be dead in le than 110 year so the pai...</td>\n",
       "      <td>We will be dead in less than 110 year so the p...</td>\n",
       "    </tr>\n",
       "    <tr>\n",
       "      <th>3</th>\n",
       "      <td>0</td>\n",
       "      <td>NaN</td>\n",
       "      <td>4</td>\n",
       "      <td>2</td>\n",
       "      <td>mentalhealth</td>\n",
       "      <td>2018-12-16 08:20:31.781473</td>\n",
       "      <td>Everything is falling apart, I wish someone wo...</td>\n",
       "      <td>2</td>\n",
       "      <td>https://www.reddit.com/r/mentalhealth/comments...</td>\n",
       "      <td>NaN</td>\n",
       "      <td>Everything is falling apart, I wish someone wo...</td>\n",
       "      <td>everyth is fall apart, I wish someon would und...</td>\n",
       "    </tr>\n",
       "    <tr>\n",
       "      <th>4</th>\n",
       "      <td>0</td>\n",
       "      <td>NaN</td>\n",
       "      <td>10</td>\n",
       "      <td>117</td>\n",
       "      <td>mentalhealth</td>\n",
       "      <td>2018-12-16 08:20:31.781475</td>\n",
       "      <td>I'm finally happy again</td>\n",
       "      <td>117</td>\n",
       "      <td>https://www.reddit.com/r/mentalhealth/comments...</td>\n",
       "      <td>NaN</td>\n",
       "      <td>I'm finally happy again</td>\n",
       "      <td>i'm final happi again</td>\n",
       "    </tr>\n",
       "  </tbody>\n",
       "</table>\n",
       "</div>"
      ],
      "text/plain": [
       "   downs  likes  num_comments  score     subreddit  \\\n",
       "0      0    NaN             0      1  mentalhealth   \n",
       "1      0    NaN            22    204  mentalhealth   \n",
       "2      0    NaN             0      7  mentalhealth   \n",
       "3      0    NaN             4      2  mentalhealth   \n",
       "4      0    NaN            10    117  mentalhealth   \n",
       "\n",
       "                 time_of_pull  \\\n",
       "0  2018-12-16 08:20:31.781459   \n",
       "1  2018-12-16 08:20:31.781468   \n",
       "2  2018-12-16 08:20:31.781471   \n",
       "3  2018-12-16 08:20:31.781473   \n",
       "4  2018-12-16 08:20:31.781475   \n",
       "\n",
       "                                               title  ups  \\\n",
       "0                 Why am I afraid to express myself?    1   \n",
       "1  I was talked out of an abortion at 18, now I'm...  204   \n",
       "2  We will be dead in less than 110 years so the ...    7   \n",
       "3  Everything is falling apart, I wish someone wo...    2   \n",
       "4                            I'm finally happy again  117   \n",
       "\n",
       "                                                 url  view_count  \\\n",
       "0  https://www.reddit.com/r/mentalhealth/comments...         NaN   \n",
       "1  https://www.reddit.com/r/mentalhealth/comments...         NaN   \n",
       "2  https://www.reddit.com/r/mentalhealth/comments...         NaN   \n",
       "3  https://www.reddit.com/r/mentalhealth/comments...         NaN   \n",
       "4  https://www.reddit.com/r/mentalhealth/comments...         NaN   \n",
       "\n",
       "                                     text_lemmatized  \\\n",
       "0                 Why am I afraid to express myself?   \n",
       "1  I wa talked out of an abortion at 18, now I'm ...   \n",
       "2  We will be dead in le than 110 year so the pai...   \n",
       "3  Everything is falling apart, I wish someone wo...   \n",
       "4                            I'm finally happy again   \n",
       "\n",
       "                                        text_stemmed  \n",
       "0                 whi am I afraid to express myself?  \n",
       "1  I wa talk out of an abort at 18, now i'm 22 an...  \n",
       "2  We will be dead in less than 110 year so the p...  \n",
       "3  everyth is fall apart, I wish someon would und...  \n",
       "4                              i'm final happi again  "
      ]
     },
     "execution_count": 7,
     "metadata": {},
     "output_type": "execute_result"
    }
   ],
   "source": [
    "ds.head()"
   ]
  },
  {
   "cell_type": "code",
   "execution_count": 8,
   "metadata": {},
   "outputs": [],
   "source": [
    "X = ds['text_stemmed']\n",
    "y = ds['ups'].map(lambda x: 15 if x>= 15 else x)\n",
    "X_train, X_test, y_train, y_test = train_test_split(X,y,random_state=42)"
   ]
  },
  {
   "cell_type": "code",
   "execution_count": 9,
   "metadata": {},
   "outputs": [],
   "source": [
    "cv = CountVectorizer(stop_words='english',ngram_range=(1,1))\n",
    "cv.fit(X_train)\n",
    "X_train_cv = cv.transform(X_train)\n",
    "X_test_cv = cv.transform(X_test)"
   ]
  },
  {
   "cell_type": "code",
   "execution_count": 10,
   "metadata": {},
   "outputs": [
    {
     "data": {
      "text/plain": [
       "<matplotlib.axes._subplots.AxesSubplot at 0x1a1ab06278>"
      ]
     },
     "execution_count": 10,
     "metadata": {},
     "output_type": "execute_result"
    },
    {
     "data": {
      "image/png": "[encoded data removed]",
      "text/plain": [
       "<Figure size 432x288 with 1 Axes>"
      ]
     },
     "metadata": {},
     "output_type": "display_data"
    }
   ],
   "source": [
    "data_cv = cv.transform(ds['text_stemmed'])\n",
    "sum_words = data_cv.sum(axis=0) \n",
    "words_freq = [(word, sum_words[0, idx]) for word, idx in     cv.vocabulary_.items()]\n",
    "words_freq =sorted(words_freq, key = lambda x: x[1], reverse=True)\n",
    "pd.DataFrame(words_freq,columns=['word','word_count']).head(20)\n",
    "pd.DataFrame(words_freq,columns=['word','word_count']).head(20).plot.barh(x='word', y='word_count',color='pink')"
   ]
  },
  {
   "cell_type": "code",
   "execution_count": 11,
   "metadata": {},
   "outputs": [],
   "source": [
    "# mn_lr = LogisticRegressionCV(multi_class='multinomial', solver='newton-cg')\n",
    "# mn_lr.fit(X_train_cv,y_train)\n",
    "# mn_lr.score(X_train_cv,y_train), mn_lr.score(X_test_cv,y_test)"
   ]
  },
  {
   "cell_type": "code",
   "execution_count": 12,
   "metadata": {},
   "outputs": [
    {
     "data": {
      "text/plain": [
       "2     0.318826\n",
       "3     0.174089\n",
       "1     0.164980\n",
       "4     0.071862\n",
       "5     0.055668\n",
       "15    0.052632\n",
       "0     0.042510\n",
       "6     0.034413\n",
       "7     0.024291\n",
       "8     0.019231\n",
       "9     0.012146\n",
       "10    0.010121\n",
       "14    0.006073\n",
       "11    0.006073\n",
       "13    0.004049\n",
       "12    0.003036\n",
       "Name: ups, dtype: float64"
      ]
     },
     "execution_count": 12,
     "metadata": {},
     "output_type": "execute_result"
    }
   ],
   "source": [
    "y.value_counts(normalize = True)"
   ]
  },
  {
   "cell_type": "code",
   "execution_count": 14,
   "metadata": {},
   "outputs": [],
   "source": [
    "# baseline is 0.32"
   ]
  },
  {
   "cell_type": "markdown",
   "metadata": {},
   "source": [
    "### trying random forest with grid search here"
   ]
  },
  {
   "cell_type": "code",
   "execution_count": 13,
   "metadata": {},
   "outputs": [
    {
     "name": "stderr",
     "output_type": "stream",
     "text": [
      "/anaconda3/lib/python3.6/site-packages/sklearn/cross_validation.py:553: Warning: The least populated class in y has only 1 members, which is too few. The minimum number of labels for any class cannot be less than n_folds=5.\n",
      "  % (min_labels, self.n_folds)), Warning)\n"
     ]
    },
    {
     "data": {
      "text/plain": [
       "GridSearchCV(cv=5, error_score='raise',\n",
       "       estimator=RandomForestClassifier(bootstrap=True, class_weight=None, criterion='gini',\n",
       "            max_depth=None, max_features='auto', max_leaf_nodes=None,\n",
       "            min_impurity_decrease=0.0, min_impurity_split=None,\n",
       "            min_samples_leaf=1, min_samples_split=2,\n",
       "            min_weight_fraction_leaf=0.0, n_estimators=10, n_jobs=1,\n",
       "            oob_score=False, random_state=None, verbose=0,\n",
       "            warm_start=False),\n",
       "       fit_params={}, iid=True, n_jobs=1,\n",
       "       param_grid={'n_estimators': [1, 3, 5, 10, 15], 'criterion': ['gini', 'entropy'], 'max_depth': [None, 3, 5], 'max_leaf_nodes': [None, 3, 5, 7, 9]},\n",
       "       pre_dispatch='2*n_jobs', refit=True, scoring=None, verbose=0)"
      ]
     },
     "execution_count": 13,
     "metadata": {},
     "output_type": "execute_result"
    }
   ],
   "source": [
    "rf = RandomForestClassifier()\n",
    "rf_params = {\n",
    "    'n_estimators':[1,3,5,10,15]\n",
    "    ,'criterion':['gini','entropy']\n",
    "    ,'max_depth':[None,3,5]\n",
    "    ,'max_leaf_nodes':[None,3,5,7,9]\n",
    "}\n",
    "gs_rf = GridSearchCV(rf, param_grid=rf_params, cv=5)\n",
    "gs_rf.fit(X_train_cv,y_train)"
   ]
  },
  {
   "cell_type": "code",
   "execution_count": 14,
   "metadata": {},
   "outputs": [
    {
     "name": "stdout",
     "output_type": "stream",
     "text": [
      "0.3252361673414305\n"
     ]
    },
    {
     "data": {
      "text/plain": [
       "{'criterion': 'entropy',\n",
       " 'max_depth': 3,\n",
       " 'max_leaf_nodes': 5,\n",
       " 'n_estimators': 5}"
      ]
     },
     "execution_count": 14,
     "metadata": {},
     "output_type": "execute_result"
    }
   ],
   "source": [
    "print(gs_rf.best_score_)\n",
    "gs_rf.best_params_"
   ]
  },
  {
   "cell_type": "code",
   "execution_count": 15,
   "metadata": {},
   "outputs": [
    {
     "data": {
      "text/plain": [
       "(0.32118758434547906, 0.32388663967611336)"
      ]
     },
     "execution_count": 15,
     "metadata": {},
     "output_type": "execute_result"
    }
   ],
   "source": [
    "gs_rf.score(X_train_cv,y_train), gs_rf.score(X_test_cv,y_test)"
   ]
  },
  {
   "cell_type": "markdown",
   "metadata": {},
   "source": [
    "### trying gradient or adaboosting here... "
   ]
  },
  {
   "cell_type": "code",
   "execution_count": 16,
   "metadata": {},
   "outputs": [
    {
     "name": "stderr",
     "output_type": "stream",
     "text": [
      "/anaconda3/lib/python3.6/site-packages/sklearn/cross_validation.py:553: Warning: The least populated class in y has only 1 members, which is too few. The minimum number of labels for any class cannot be less than n_folds=5.\n",
      "  % (min_labels, self.n_folds)), Warning)\n"
     ]
    },
    {
     "name": "stdout",
     "output_type": "stream",
     "text": [
      "0.32118758434547906\n",
      "{'base_estimator': DecisionTreeClassifier(class_weight=None, criterion='gini', max_depth=1,\n",
      "            max_features=None, max_leaf_nodes=None,\n",
      "            min_impurity_decrease=0.0, min_impurity_split=None,\n",
      "            min_samples_leaf=1, min_samples_split=2,\n",
      "            min_weight_fraction_leaf=0.0, presort=False, random_state=None,\n",
      "            splitter='best'), 'learning_rate': 0.5, 'n_estimators': 50}\n"
     ]
    }
   ],
   "source": [
    "ada = AdaBoostClassifier()\n",
    "ada_params = {\n",
    "    'n_estimators' :[50,100]\n",
    "    ,'base_estimator': [LogisticRegression(),DecisionTreeClassifier(max_depth=1)]\n",
    "    ,'learning_rate': [1,1.5,0.5]\n",
    "}\n",
    "gs_ada = GridSearchCV(ada,param_grid=ada_params,cv=5)\n",
    "gs_ada.fit(X_train_cv,y_train)\n",
    "print(gs_ada.best_score_) #best score is already crossvalidated bc we set cv\n",
    "print(gs_ada.best_params_)"
   ]
  },
  {
   "cell_type": "code",
   "execution_count": 17,
   "metadata": {},
   "outputs": [
    {
     "data": {
      "text/plain": [
       "(0.33063427800269907, 0.31983805668016196)"
      ]
     },
     "execution_count": 17,
     "metadata": {},
     "output_type": "execute_result"
    }
   ],
   "source": [
    "gs_ada.score(X_train_cv,y_train), gs_ada.score(X_test_cv,y_test)"
   ]
  },
  {
   "cell_type": "code",
   "execution_count": 21,
   "metadata": {},
   "outputs": [
    {
     "name": "stderr",
     "output_type": "stream",
     "text": [
      "/anaconda3/lib/python3.6/site-packages/sklearn/cross_validation.py:553: Warning: The least populated class in y has only 1 members, which is too few. The minimum number of labels for any class cannot be less than n_folds=5.\n",
      "  % (min_labels, self.n_folds)), Warning)\n"
     ]
    },
    {
     "name": "stdout",
     "output_type": "stream",
     "text": [
      "0.29284750337381915\n"
     ]
    },
    {
     "data": {
      "text/plain": [
       "{'learning_rate': 0.1, 'max_depth': 7, 'max_leaf_nodes': 3, 'n_estimators': 10}"
      ]
     },
     "execution_count": 21,
     "metadata": {},
     "output_type": "execute_result"
    }
   ],
   "source": [
    "gb = GradientBoostingClassifier()\n",
    "gb_params = {\n",
    "    'n_estimators':[10,50,100]\n",
    "    ,'learning_rate':[0.1,0.5,1]\n",
    "    ,'max_leaf_nodes':[None,3,5,10]\n",
    "    ,'max_depth':[3,5,7]\n",
    "}\n",
    "gs_gb = GridSearchCV(gb, param_grid=gb_params, cv = 5)\n",
    "gs_gb.fit(X_train_cv,y_train)\n",
    "print(gs_gb.best_score_)\n",
    "gs_gb.best_params_"
   ]
  },
  {
   "cell_type": "code",
   "execution_count": 22,
   "metadata": {},
   "outputs": [
    {
     "data": {
      "text/plain": [
       "(0.5371120107962213, 0.27530364372469635)"
      ]
     },
     "execution_count": 22,
     "metadata": {},
     "output_type": "execute_result"
    }
   ],
   "source": [
    "gs_gb.score(X_train_cv,y_train), gs_gb.score(X_test_cv,y_test)"
   ]
  },
  {
   "cell_type": "code",
   "execution_count": 20,
   "metadata": {},
   "outputs": [
    {
     "name": "stderr",
     "output_type": "stream",
     "text": [
      "/anaconda3/lib/python3.6/site-packages/sklearn/cross_validation.py:553: Warning: The least populated class in y has only 1 members, which is too few. The minimum number of labels for any class cannot be less than n_folds=3.\n",
      "  % (min_labels, self.n_folds)), Warning)\n"
     ]
    },
    {
     "data": {
      "text/plain": [
       "GridSearchCV(cv=None, error_score='raise',\n",
       "       estimator=SVC(C=1.0, cache_size=200, class_weight=None, coef0=0.0,\n",
       "  decision_function_shape='ovr', degree=3, gamma='auto', kernel='rbf',\n",
       "  max_iter=-1, probability=False, random_state=None, shrinking=True,\n",
       "  tol=0.001, verbose=False),\n",
       "       fit_params={}, iid=True, n_jobs=1,\n",
       "       param_grid={'C': [1.0, 0.5, 1.5, 2.0], 'kernel': ['rbf', 'linear', 'sigmoid'], 'gamma': [0.0001, 0.001, 0.01]},\n",
       "       pre_dispatch='2*n_jobs', refit=True, scoring=None, verbose=0)"
      ]
     },
     "execution_count": 20,
     "metadata": {},
     "output_type": "execute_result"
    }
   ],
   "source": [
    "# do we want to try SVM??? -- Yes\n",
    "from sklearn import svm\n",
    "\n",
    "svc = svm.SVC()\n",
    "svc_params = {\n",
    "    'C': [1.0,0.5,1.5,2.0]\n",
    "    ,'kernel': ['rbf','linear','sigmoid']\n",
    "    ,'gamma': [0.0001,0.001,0.01]\n",
    "}\n",
    "gs_svc = GridSearchCV(svc, param_grid=svc_params)\n",
    "\n",
    "\n",
    "gs_svc.fit(X_train_cv, y_train)"
   ]
  },
  {
   "cell_type": "code",
   "execution_count": 21,
   "metadata": {},
   "outputs": [
    {
     "data": {
      "text/plain": [
       "{'C': 1.0, 'gamma': 0.0001, 'kernel': 'rbf'}"
      ]
     },
     "execution_count": 21,
     "metadata": {},
     "output_type": "execute_result"
    }
   ],
   "source": [
    "gs_svc.best_params_"
   ]
  },
  {
   "cell_type": "code",
   "execution_count": 22,
   "metadata": {},
   "outputs": [
    {
     "data": {
      "text/plain": [
       "0.31713900134952766"
      ]
     },
     "execution_count": 22,
     "metadata": {},
     "output_type": "execute_result"
    }
   ],
   "source": [
    "gs_svc.best_score_"
   ]
  },
  {
   "cell_type": "code",
   "execution_count": 23,
   "metadata": {},
   "outputs": [
    {
     "data": {
      "text/plain": [
       "SVC(C=1.0, cache_size=200, class_weight=None, coef0=0.0,\n",
       "  decision_function_shape='ovr', degree=3, gamma='auto', kernel='rbf',\n",
       "  max_iter=-1, probability=False, random_state=None, shrinking=True,\n",
       "  tol=0.001, verbose=False)"
      ]
     },
     "execution_count": 23,
     "metadata": {},
     "output_type": "execute_result"
    }
   ],
   "source": [
    "svc = svm.SVC()\n",
    "svc.fit(X_train_cv,y_train)"
   ]
  },
  {
   "cell_type": "code",
   "execution_count": 24,
   "metadata": {},
   "outputs": [
    {
     "data": {
      "text/plain": [
       "(0.31713900134952766, 0.32388663967611336)"
      ]
     },
     "execution_count": 24,
     "metadata": {},
     "output_type": "execute_result"
    }
   ],
   "source": [
    "svc.score(X_train_cv,y_train), svc.score(X_test_cv,y_test)"
   ]
  },
  {
   "cell_type": "markdown",
   "metadata": {},
   "source": [
    "### you will notice that the ups are ~ poisson with very long tails . perhaps a better fit would be to use poisson\n",
    "\n",
    "```python\n",
    "ds.ups.mean()\n",
    "ds.ups.median()\n",
    "ds.ups.std()\n",
    "\n",
    "sns.distplot(ds[ds['ups']<20].ups,bins=20,color = 'pink')\n",
    "\n",
    "np.asarray(X_train_cv)\n",
    "\n",
    "import statsmodels.api as sm\n",
    "\n",
    "results = sm.GLM(y_train,\n",
    "                 X_train_cv.todense(),\n",
    "                 family=sm.families.Poisson(link = sm.families.links.log)).fit()\n",
    "\n",
    "results.summary()\n",
    "```\n",
    "* this did not work as expected.  very little words were significant if any.  need different way to quantify ups."
   ]
  },
  {
   "cell_type": "code",
   "execution_count": null,
   "metadata": {},
   "outputs": [],
   "source": []
  }
 ],
 "metadata": {
  "kernelspec": {
   "display_name": "Python 3",
   "language": "python",
   "name": "python3"
  },
  "language_info": {
   "codemirror_mode": {
    "name": "ipython",
    "version": 3
   },
   "file_extension": ".py",
   "mimetype": "text/x-python",
   "name": "python",
   "nbconvert_exporter": "python",
   "pygments_lexer": "ipython3",
   "version": "3.6.4"
  }
 },
 "nbformat": 4,
 "nbformat_minor": 2
}
