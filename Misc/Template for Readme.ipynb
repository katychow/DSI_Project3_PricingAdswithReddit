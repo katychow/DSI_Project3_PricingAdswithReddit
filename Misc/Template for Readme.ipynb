{
 "cells": [
  {
   "cell_type": "markdown",
   "metadata": {},
   "source": [
    "## Project 3 README\n",
    "\n",
    "The **_objective_** of Project 3 was to be able to use classification methods and run an experiment on whether or not one could predict the correct subreddit\n",
    "\n",
    "## Executive Summary\n",
    "\n",
    "Reddit is starting to sell advertising space in subreddits.  They want a tiered structure to pricing based on post popularity.  (eg. if a post is more popular, it will cost more for ad space within a subreddit) It seems as though while we are very good at predicting the correct subreddit, we are not very good at predicting the up votes.  Perhaps a better marketing strategy would be to predict which subreddits are the most popular on the hot page and price advertisements based on the subreddit.\n",
    "\n",
    "## Data Information\n",
    "\n",
    "Data scraped from subreddits are the [psychology](https://www.reddit.com/r/psychology) and [mental health](https://www.reddit.com/r/mentalhealth) subreddit.  \n",
    "\n",
    "#### Data Dictionary of Data Pulled\n",
    "|Column Name | Data Type | Brief Description |\n",
    "|---|---|---|\n",
    "|subreddit|str|subreddit data pulled from|\n",
    "|title|str|title of pose in subreddit|\n",
    "|num_comments|int|number of comments|\n",
    "|ups|int|up votes of post|\n",
    "|downs|int|down votes of posts|\n",
    "|likes|int|likes of posts|\n",
    "|view_count|int|counts of times post viewed|\n",
    "|url|str|url for subreddit post|\n",
    "|time_of_pull|timestamp|time when post was scraped|\n",
    "\n",
    "\n",
    "## How to Navigate Folders and Files\n",
    "\n",
    "1. **_Code_** Folder, 4 Files, Organized with _NB suffix\n",
    "  * NB1 contains code to scrape subreddit data\n",
    "  * NB2 contains code to run models to classify subreddit data and determine if the title of a subreddit is either mental health or psychology, some visualizations at the end from using sentiment analysis\n",
    "  * NB3 contains code to run adhoc visualizations including word cloud code and also lots of histograms\n",
    "  * NB4 contains code to run models on prediction of 'ups' given a specific subreddit\n",
    "<br><br>\n",
    "2. **_Data_** Folder, 6 Files\n",
    "  * Subreddit webscrape data denoted by Reddit_**Subreddit Name Here**_datefilewritten.csv\n",
    "  * 4 subreddit webscraped data files, used Reddit_MH, most current version of Reddit_Psych for project\n",
    "  * other files include, \"train\" dataset intended for visualizations and coefficient values of classification model in CSV format\n",
    "<br><br>\n",
    "3.  **_Images_** Folder, 22 Files\n",
    "  * Wordcloud images denoted by suffix of _wordcloud\n",
    "  * histograms of Top20 words for each subreddit and both subreddits combined denoted by prefix of Top20\n",
    "  * scatterplots of sentiment analysis comparing pos,neg,neu scores to the compound scores denoted by prefix of RedditComparisonsSentiments\n",
    "  * a few model flow charts denoted with psycho-or-mentalhealth prefix\n",
    "  * other images contain misnamed versions of above, the background image for wordclouds, and histogram comparing words across both subreddits.\n",
    "<br><br>\n",
    "4. **_Misc_** Folder, 3 Files\n",
    "  * 2 files regarding project instructions\n",
    "  * 1 file as a template for KatyChow_README.md file on first page"
   ]
  },
  {
   "cell_type": "code",
   "execution_count": null,
   "metadata": {},
   "outputs": [],
   "source": []
  }
 ],
 "metadata": {
  "kernelspec": {
   "display_name": "Python 3",
   "language": "python",
   "name": "python3"
  },
  "language_info": {
   "codemirror_mode": {
    "name": "ipython",
    "version": 3
   },
   "file_extension": ".py",
   "mimetype": "text/x-python",
   "name": "python",
   "nbconvert_exporter": "python",
   "pygments_lexer": "ipython3",
   "version": "3.6.4"
  }
 },
 "nbformat": 4,
 "nbformat_minor": 2
}
